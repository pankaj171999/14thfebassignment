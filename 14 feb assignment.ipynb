{
 "cells": [
  {
   "cell_type": "code",
   "execution_count": null,
   "id": "fbf89d16-a326-49f7-8075-357a605dfb49",
   "metadata": {},
   "outputs": [],
   "source": [
    "#Q1(Ans)\n",
    "# Multithreading-Multithreading is a threading technique in Python programming to run multiple threads concurrently by rapidly switching between threads with a CPU help.\n",
    "# Use of Multithreading-\n",
    "# Python multithreading enables efficient utilization of the resources as the threads share the data space and memory.\n",
    "# Thread module is used to handle threads in python"
   ]
  },
  {
   "cell_type": "code",
   "execution_count": null,
   "id": "63a5a4b1-4595-4d64-a13e-f8d918362d19",
   "metadata": {},
   "outputs": [],
   "source": [
    "#Q2(Ans)\n",
    "# Threading module is used for creating, controlling and managing threads in python.\n",
    "# 1.activeCount()- The method threading.active_count() from the threading module is used to count the currently active or running threads.\n",
    "# 2.currentThread()-The currentThread() method of thread class is used to return a reference to the currently executing thread object.\n",
    "# 3.enumerate()-Enumerate() method adds a counter to an iterable and returns it in a form of enumerating object."
   ]
  },
  {
   "cell_type": "code",
   "execution_count": null,
   "id": "693f307b-1936-4532-9ba0-3828d018e3d8",
   "metadata": {},
   "outputs": [],
   "source": [
    "#Q3(Ans)\n",
    "# run()- run() method executes any target function belonging to a given thread object that is now active.\n",
    "# start()- The start() method of thread class is used to begin the execution of thread.\n",
    "# join()- Join method in python allows one thread to wait until another thread completes its execution.\n",
    "# isAlive()-It uses a Thread object, and checks whether that thread is alive or not, ie, it is still running or not. "
   ]
  },
  {
   "cell_type": "code",
   "execution_count": 7,
   "id": "643818d8-25db-4fee-b0c2-9480c70cfab8",
   "metadata": {},
   "outputs": [
    {
     "name": "stdout",
     "output_type": "stream",
     "text": [
      "square : 16\n",
      "square : 25\n",
      "square : 36\n",
      "square : 49\n",
      "square : 64\n",
      "cube : 64\n",
      "cube : 125\n",
      "cube : 216\n",
      "cube : 343\n",
      "cube : 512\n"
     ]
    }
   ],
   "source": [
    "#Q4(Ans)\n",
    "import threading\n",
    "def cal_square(num):\n",
    "    for i in num:\n",
    "        print(\"square :\",i*i)\n",
    "def cal_cube(num):\n",
    "    for i in num:\n",
    "        print(\"cube :\", i*i*i)  \n",
    "arr=[4,5,6,7,8]\n",
    "t1=threading.Thread(target=cal_square,args=(arr,))\n",
    "t2=threading.Thread(target=cal_cube,args=(arr,))\n",
    "t1.start()\n",
    "t2.start()\n",
    "t1.join()\n",
    "t2.join()"
   ]
  },
  {
   "cell_type": "code",
   "execution_count": null,
   "id": "5a7df289-58fb-45cf-87e6-d7f23e9831c0",
   "metadata": {},
   "outputs": [],
   "source": [
    "#Q5(Ans)\n",
    "#Advantages of threads\n",
    "# 1 We can execute multiple tasks of an application at a time\n",
    "# 2 Reduces the complexity of a big applications\n",
    "# 3 Helps to improve the performance of an application drastically\n",
    "# 4 Utilizes the max resources of multiprocessor systems\n",
    "# 5 Better user interface in case of GUI based applications\n",
    "# 6 Reduces the development time of an application\n",
    "# 7 All the threads are independent , any unexpected exception happens in any of the thread will not lead to an application exit.\n",
    "#Disadvantages of threads\n",
    "# 1 Thread synchronization is an extra over head to the developers\n",
    "# 2 Shares the common data across the threads might cause the data inconsistency or thread sync issues\n",
    "# 3 Threads blocking for resources is more common problem\n",
    "# 4 Difficult in managing the code in terms of debugging or writing the code\n"
   ]
  },
  {
   "cell_type": "code",
   "execution_count": null,
   "id": "0e114093-0996-4c2e-9019-ff1f99acf5b5",
   "metadata": {},
   "outputs": [],
   "source": [
    "#Q6(Ans)\n",
    "# Race condition-When two processes are competing with each other causing data corruption.\n",
    "#explaination\n",
    "# Two persons are trying to deposit 1 dollar online into the same bank account. The initial amount is 17 dollar. Both the persons would be able to see $17 initially. \n",
    "#Each of them tries to deposit $1, and the final amount is expected to be $19. But due to race conditions, the final amount in the bank is $18 instead of $19. This is also known as dirty read.\n",
    "#For example, if two processes/threads are trying to execute the following conditions simultaneously, they cause data corruption:\n",
    "\n",
    "#Dead Lock-When two processes are waiting for each other directly or indirectly, it is called deadlock.\n",
    "#explaination\n",
    "#This usually occurs when two processes are waiting for shared resources acquired by others. For example, If thread T1 acquired resource R1 and it also needs resource R2 for it to accomplish its task. \n",
    "#But the resource R2 is acquired by thread T2 which is waiting for resource R1(which is acquired by T1).. Neither of them will be able to accomplish its task, as they keep waiting for the other resources they need."
   ]
  }
 ],
 "metadata": {
  "kernelspec": {
   "display_name": "Python 3 (ipykernel)",
   "language": "python",
   "name": "python3"
  },
  "language_info": {
   "codemirror_mode": {
    "name": "ipython",
    "version": 3
   },
   "file_extension": ".py",
   "mimetype": "text/x-python",
   "name": "python",
   "nbconvert_exporter": "python",
   "pygments_lexer": "ipython3",
   "version": "3.10.8"
  }
 },
 "nbformat": 4,
 "nbformat_minor": 5
}
